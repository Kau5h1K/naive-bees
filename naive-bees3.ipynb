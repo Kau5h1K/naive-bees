{
  "cells": [
    {
      "cell_type": "code",
      "source": [
        "import pickle\n",
        "from pathlib import Path\n",
        "from skimage import io\n",
        "\n",
        "import pandas as pd\n",
        "import numpy as np\n",
        "\n",
        "import matplotlib.pyplot as plt\n",
        "%matplotlib inline\n",
        "\n",
        "from sklearn.preprocessing import StandardScaler\n",
        "from sklearn.model_selection import train_test_split\n",
        "from sklearn.metrics import classification_report\n",
        "\n",
        "# import keras library\n",
        "import keras\n",
        "# import Sequential from the keras models module\n",
        "from keras.models import Sequential\n",
        "# import Dense, Dropout, Flatten, Conv2D, MaxPooling2D from the keras layers module\n",
        "from keras.layers import Dense, Dropout, Flatten, Conv2D, MaxPooling2D"
      ],
      "outputs": [],
      "execution_count": 5,
      "metadata": {
        "tags": [
          "sample_code"
        ],
        "trusted": true,
        "dc": {
          "key": "3"
        }
      }
    },
    {
      "cell_type": "code",
      "source": [
        "# load labels.csv from datasets folder using pandas\n",
        "labels = pd.read_csv('datasets/labels.csv',index_col=0)\n",
        "\n",
        "# print value counts for genus\n",
        "print(labels.genus.value_counts())\n",
        "\n",
        "# assign the genus label values to y\n",
        "y = labels['genus'].values"
      ],
      "outputs": [
        {
          "output_type": "stream",
          "name": "stdout",
          "text": [
            "0.0    827\n",
            "1.0    827\n",
            "Name: genus, dtype: int64\n"
          ]
        }
      ],
      "execution_count": 6,
      "metadata": {
        "tags": [
          "sample_code"
        ],
        "trusted": true,
        "dc": {
          "key": "10"
        }
      }
    },
    {
      "cell_type": "code",
      "source": [
        "# load an image and explore\n",
        "example_image = io.imread('datasets/{}.jpg'.format(labels.index[0]))\n",
        "\n",
        "# show image\n",
        "plt.imshow(example_image)\n",
        "# print shape\n",
        "print('Example image has shape: ', example_image.shape)\n",
        "                    \n",
        "# print color channel values for top left pixel\n",
        "print('RGB values for the top left pixel are:', example_image[0,0])"
      ],
      "outputs": [
        {
          "output_type": "stream",
          "name": "stdout",
          "text": [
            "Example image has shape:  (50, 50, 3)\n",
            "RGB values for the top left pixel are: [127 108  95]\n"
          ]
        },
        {
          "output_type": "display_data",
          "data": {
            "text/plain": [
              "<Figure size 432x288 with 1 Axes>"
            ],
            "image/png": "[encoded data removed]"
          },
          "metadata": {
            "needs_background": "light"
          }
        }
      ],
      "execution_count": 16,
      "metadata": {
        "tags": [
          "sample_code"
        ],
        "trusted": true,
        "dc": {
          "key": "17"
        }
      }
    },
    {
      "cell_type": "code",
      "source": [
        "# initialize standard scaler\n",
        "ss = StandardScaler()\n",
        "\n",
        "image_list = []\n",
        "for i in labels.index:\n",
        "    # load image\n",
        "    img = io.imread('datasets/{}.jpg'.format(i)).astype(np.float64)\n",
        "    \n",
        "    # for each channel, apply standard scaler's fit_transform method\n",
        "    for channel in range(img.shape[2]):\n",
        "        img[:, :, channel] = ss.fit_transform(img[:, :, channel])\n",
        "        \n",
        "    # append to list of all images\n",
        "    image_list.append(img)\n",
        "    \n",
        "# convert image list to single array\n",
        "X = np.array(image_list)\n",
        "\n",
        "# print shape of X\n",
        "print(X.shape)"
      ],
      "outputs": [
        {
          "output_type": "stream",
          "name": "stdout",
          "text": [
            "(1654, 50, 50, 3)\n"
          ]
        }
      ],
      "execution_count": 17,
      "metadata": {
        "tags": [
          "sample_code"
        ],
        "trusted": true,
        "dc": {
          "key": "24"
        }
      }
    },
    {
      "cell_type": "code",
      "source": [
        "# split out evaluation sets (x_eval and y_eval)\n",
        "x_interim, x_eval, y_interim, y_eval = train_test_split(X,\n",
        "                                           y,\n",
        "                                           test_size=0.2,\n",
        "                                           random_state=52)\n",
        "\n",
        "# split remaining data into train and test sets\n",
        "x_train, x_test, y_train, y_test = train_test_split(x_interim,\n",
        "                                           y_interim,\n",
        "                                           test_size=0.4,\n",
        "                                           random_state=52)\n",
        "# examine number of samples in train, test, and validation sets\n",
        "print('x_train shape:', x_train.shape)\n",
        "print(x_train.shape[0], 'train samples')\n",
        "print(x_test.shape[0], 'test samples')\n",
        "print(x_eval.shape[0], 'eval samples')"
      ],
      "outputs": [
        {
          "output_type": "stream",
          "name": "stdout",
          "text": [
            "x_train shape: (793, 50, 50, 3)\n",
            "793 train samples\n",
            "530 test samples\n",
            "331 eval samples\n"
          ]
        }
      ],
      "execution_count": 18,
      "metadata": {
        "tags": [
          "sample_code"
        ],
        "trusted": true,
        "dc": {
          "key": "31"
        }
      }
    },
    {
      "cell_type": "code",
      "source": [
        "# set model constants\n",
        "num_classes = 1\n",
        "\n",
        "# define model as Sequential\n",
        "model = Sequential()\n",
        "\n",
        "# first convolutional layer with 32 filters\n",
        "model.add(Conv2D(32, kernel_size=(3, 3), activation='relu', input_shape=(50, 50, 3)))\n",
        "\n",
        "# add a second 2D convolutional layer with 64 filters\n",
        "model.add(Conv2D(64, kernel_size=(3, 3), activation='relu'))"
      ],
      "outputs": [],
      "execution_count": 19,
      "metadata": {
        "tags": [
          "sample_code"
        ],
        "collapsed": true,
        "trusted": true,
        "dc": {
          "key": "38"
        }
      }
    },
    {
      "cell_type": "code",
      "source": [
        "# reduce dimensionality through max pooling\n",
        "model.add(MaxPooling2D(pool_size=(2,2)))\n",
        "\n",
        "# third convolutional layer with 64 filters\n",
        "model.add(Conv2D(64, kernel_size=(3, 3), activation='relu'))\n",
        "# add dropout to prevent over fitting\n",
        "model.add(Dropout(0.25))\n",
        "# necessary flatten step preceeding dense layer\n",
        "model.add(Flatten())\n",
        "# fully connected layer\n",
        "model.add(Dense(128, activation='relu'))\n",
        "\n",
        "# add additional dropout to prevent overfitting\n",
        "model.add(Dropout(0.5))\n",
        "# prediction layers\n",
        "model.add(Dense(num_classes, activation='sigmoid', name='preds'))\n",
        "\n",
        "# show model summary\n",
        "model.summary()"
      ],
      "outputs": [
        {
          "output_type": "stream",
          "name": "stdout",
          "text": [
            "_________________________________________________________________\n",
            "Layer (type)                 Output Shape              Param #   \n",
            "=================================================================\n",
            "conv2d_4 (Conv2D)            (None, 48, 48, 32)        896       \n",
            "_________________________________________________________________\n",
            "conv2d_5 (Conv2D)            (None, 46, 46, 64)        18496     \n",
            "_________________________________________________________________\n",
            "max_pooling2d_2 (MaxPooling2 (None, 23, 23, 64)        0         \n",
            "_________________________________________________________________\n",
            "conv2d_6 (Conv2D)            (None, 21, 21, 64)        36928     \n",
            "_________________________________________________________________\n",
            "dropout_3 (Dropout)          (None, 21, 21, 64)        0         \n",
            "_________________________________________________________________\n",
            "flatten_2 (Flatten)          (None, 28224)             0         \n",
            "_________________________________________________________________\n",
            "dense_2 (Dense)              (None, 128)               3612800   \n",
            "_________________________________________________________________\n",
            "dropout_4 (Dropout)          (None, 128)               0         \n",
            "_________________________________________________________________\n",
            "preds (Dense)                (None, 1)                 129       \n",
            "=================================================================\n",
            "Total params: 3,669,249\n",
            "Trainable params: 3,669,249\n",
            "Non-trainable params: 0\n",
            "_________________________________________________________________\n"
          ]
        }
      ],
      "execution_count": 20,
      "metadata": {
        "tags": [
          "sample_code"
        ],
        "trusted": true,
        "dc": {
          "key": "45"
        }
      }
    },
    {
      "cell_type": "code",
      "source": [
        "model.compile(\n",
        "    # set the loss as binary_crossentropy\n",
        "    loss=keras.losses.binary_crossentropy,\n",
        "    # set the optimizer as stochastic gradient descent\n",
        "    optimizer=keras.optimizers.SGD(lr=0.001),\n",
        "    # set the metric as accuracy\n",
        "    metrics=['accuracy']\n",
        ")\n",
        "\n",
        "# mock-train the model using the first ten observations of the train and test sets\n",
        "model.fit(\n",
        "    x_train[:10, :, :, :],\n",
        "    y_train[:10],\n",
        "    epochs=5,\n",
        "    verbose=1,\n",
        "    validation_data=(x_test[:10, :, :, :], y_test[:10])\n",
        ")"
      ],
      "outputs": [
        {
          "output_type": "stream",
          "name": "stdout",
          "text": [
            "Train on 10 samples, validate on 10 samples\n",
            "Epoch 1/5\n",
            "10/10 [==============================] - 3s 347ms/step - loss: 0.7778 - acc: 0.4000 - val_loss: 0.6836 - val_acc: 0.5000\n",
            "Epoch 2/5\n",
            "10/10 [==============================] - 0s 15ms/step - loss: 0.7298 - acc: 0.3000 - val_loss: 0.6829 - val_acc: 0.6000\n",
            "Epoch 3/5\n",
            "10/10 [==============================] - 0s 17ms/step - loss: 0.7005 - acc: 0.5000 - val_loss: 0.6832 - val_acc: 0.7000\n",
            "Epoch 4/5\n",
            "10/10 [==============================] - 0s 15ms/step - loss: 0.6941 - acc: 0.5000 - val_loss: 0.6844 - val_acc: 0.7000\n",
            "Epoch 5/5\n",
            "10/10 [==============================] - 0s 14ms/step - loss: 0.6444 - acc: 0.9000 - val_loss: 0.6867 - val_acc: 0.5000\n"
          ]
        },
        {
          "output_type": "execute_result",
          "execution_count": 21,
          "data": {
            "text/plain": [
              "<keras.callbacks.History at 0x22af4d47a20>"
            ]
          },
          "metadata": {}
        }
      ],
      "execution_count": 21,
      "metadata": {
        "tags": [
          "sample_code"
        ],
        "trusted": true,
        "dc": {
          "key": "52"
        }
      }
    },
    {
      "cell_type": "code",
      "source": [
        "# load pre-trained model\n",
        "pretrained_cnn = keras.models.load_model('datasets/pretrained_model.h5')\n",
        "\n",
        "# evaluate model on test set\n",
        "score = pretrained_cnn.evaluate(x_test, y_test, verbose=0)\n",
        "print('Test loss:', score[0])\n",
        "print('Test accuracy:', score[1])\n",
        "\n",
        "print(\"\")\n",
        "\n",
        "# evaluate model on holdout set\n",
        "eval_score = pretrained_cnn.evaluate(x_eval, y_eval, verbose=0)\n",
        "# print loss score\n",
        "print('Eval loss:', eval_score[0])\n",
        "# print accuracy score\n",
        "print('Eval accuracy:', eval_score[1])"
      ],
      "outputs": [
        {
          "output_type": "stream",
          "name": "stdout",
          "text": [
            "Test loss: 0.6423929158246742\n",
            "Test accuracy: 0.664150944070996\n",
            "\n",
            "Eval loss: 0.6548949939246624\n",
            "Eval accuracy: 0.649546827434413\n"
          ]
        }
      ],
      "execution_count": 24,
      "metadata": {
        "tags": [
          "sample_code"
        ],
        "collapsed": true,
        "trusted": true,
        "dc": {
          "key": "59"
        }
      }
    },
    {
      "cell_type": "code",
      "source": [
        "# load history\n",
        "with open('datasets/model_history.pkl', 'rb') as f:\n",
        "    pretrained_cnn_history = pickle.load(f)\n",
        "\n",
        "# print keys for pretrained_cnn_history dict\n",
        "print(pretrained_cnn_history.keys())\n",
        "\n",
        "fig = plt.figure(1)\n",
        "plt.subplot(211)\n",
        "# plot the validation accuracy\n",
        "plt.plot(pretrained_cnn_history['val_acc'])\n",
        "plt.title('Validation accuracy and loss')\n",
        "plt.ylabel('Accuracy')\n",
        "plt.subplot(212)\n",
        "# plot the validation loss\n",
        "plt.plot(pretrained_cnn_history['val_loss'], 'r')\n",
        "plt.xlabel('Epoch')\n",
        "plt.ylabel('Loss value');"
      ],
      "outputs": [
        {
          "output_type": "stream",
          "name": "stdout",
          "text": [
            "dict_keys(['val_loss', 'val_acc', 'loss', 'acc'])\n"
          ]
        },
        {
          "output_type": "display_data",
          "data": {
            "text/plain": [
              "<Figure size 432x288 with 2 Axes>"
            ],
            "image/png": "[encoded data removed]"
          },
          "metadata": {
            "needs_background": "light"
          }
        }
      ],
      "execution_count": 28,
      "metadata": {
        "tags": [
          "sample_code"
        ],
        "collapsed": true,
        "trusted": true,
        "dc": {
          "key": "66"
        }
      }
    },
    {
      "cell_type": "code",
      "source": [
        "# predicted probabilities for x_eval\n",
        "y_proba = pretrained_cnn.predict(x_eval)\n",
        "print(\"First five probabilities:\")\n",
        "print(y_proba[:5])\n",
        "print(\"\")\n",
        "\n",
        "# predicted classes for x_eval\n",
        "y_pred = pretrained_cnn.predict_classes(x_eval)\n",
        "\n",
        "print(\"First five class predictions:\")\n",
        "print(y_pred[:5])\n",
        "print(\"\")"
      ],
      "outputs": [
        {
          "output_type": "stream",
          "name": "stdout",
          "text": [
            "First five probabilities:\n",
            "[[0.6641951 ]\n",
            " [0.60525185]\n",
            " [0.75047696]\n",
            " [0.32835394]\n",
            " [0.88149583]]\n",
            "\n",
            "First five class predictions:\n",
            "[[1]\n",
            " [1]\n",
            " [1]\n",
            " [0]\n",
            " [1]]\n",
            "\n"
          ]
        }
      ],
      "execution_count": 29,
      "metadata": {
        "tags": [
          "sample_code"
        ],
        "collapsed": true,
        "trusted": true,
        "dc": {
          "key": "73"
        }
      }
    }
  ],
  "metadata": {
    "kernelspec": {
      "name": "python3",
      "language": "python",
      "display_name": "Python 3"
    },
    "language_info": {
      "name": "python",
      "version": "3.6.8",
      "mimetype": "text/x-python",
      "codemirror_mode": {
        "name": "ipython",
        "version": 3
      },
      "pygments_lexer": "ipython3",
      "nbconvert_exporter": "python",
      "file_extension": ".py"
    },
    "kernel_info": {
      "name": "python3"
    },
    "nteract": {
      "version": "0.12.3"
    }
  },
  "nbformat": 4,
  "nbformat_minor": 2
}